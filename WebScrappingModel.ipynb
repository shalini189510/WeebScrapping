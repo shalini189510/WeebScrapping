{
 "cells": [
  {
   "cell_type": "code",
   "execution_count": 1,
   "metadata": {
    "colab": {
     "base_uri": "https://localhost:8080/",
     "height": 34
    },
    "colab_type": "code",
    "executionInfo": {
     "elapsed": 2942,
     "status": "ok",
     "timestamp": 1594524568619,
     "user": {
      "displayName": "Shalini Kumari",
      "photoUrl": "https://lh5.googleusercontent.com/-f1p0Rlt5xtw/AAAAAAAAAAI/AAAAAAAAAPg/QAilL7XEoAo/s64/photo.jpg",
      "userId": "00879105127542526832"
     },
     "user_tz": -330
    },
    "id": "croGCr3Odi1u",
    "outputId": "c43cb51b-7a47-4f64-fc4e-5eeb2d1e12e5"
   },
   "outputs": [
    {
     "name": "stderr",
     "output_type": "stream",
     "text": [
      "Using TensorFlow backend.\n"
     ]
    }
   ],
   "source": [
    "import numpy\n",
    "import keras\n",
    "from keras.models import Sequential\n",
    "from keras.layers import Conv2D\n",
    "from keras.layers import MaxPooling2D,Dense, Activation,Flatten"
   ]
  },
  {
   "cell_type": "code",
   "execution_count": 2,
   "metadata": {
    "colab": {
     "base_uri": "https://localhost:8080/",
     "height": 680
    },
    "colab_type": "code",
    "executionInfo": {
     "elapsed": 2176,
     "status": "ok",
     "timestamp": 1594524574828,
     "user": {
      "displayName": "Shalini Kumari",
      "photoUrl": "https://lh5.googleusercontent.com/-f1p0Rlt5xtw/AAAAAAAAAAI/AAAAAAAAAPg/QAilL7XEoAo/s64/photo.jpg",
      "userId": "00879105127542526832"
     },
     "user_tz": -330
    },
    "id": "hbUBjCQQdt2j",
    "outputId": "d741a879-f24a-41c7-8e8a-8135cef8656c"
   },
   "outputs": [
    {
     "name": "stdout",
     "output_type": "stream",
     "text": [
      "Model: \"sequential_1\"\n",
      "_________________________________________________________________\n",
      "Layer (type)                 Output Shape              Param #   \n",
      "=================================================================\n",
      "conv2d_1 (Conv2D)            (None, 128, 128, 32)      896       \n",
      "_________________________________________________________________\n",
      "activation_1 (Activation)    (None, 128, 128, 32)      0         \n",
      "_________________________________________________________________\n",
      "conv2d_2 (Conv2D)            (None, 126, 126, 32)      9248      \n",
      "_________________________________________________________________\n",
      "activation_2 (Activation)    (None, 126, 126, 32)      0         \n",
      "_________________________________________________________________\n",
      "max_pooling2d_1 (MaxPooling2 (None, 63, 63, 32)        0         \n",
      "_________________________________________________________________\n",
      "conv2d_3 (Conv2D)            (None, 63, 63, 64)        18496     \n",
      "_________________________________________________________________\n",
      "activation_3 (Activation)    (None, 63, 63, 64)        0         \n",
      "_________________________________________________________________\n",
      "conv2d_4 (Conv2D)            (None, 61, 61, 64)        36928     \n",
      "_________________________________________________________________\n",
      "activation_4 (Activation)    (None, 61, 61, 64)        0         \n",
      "_________________________________________________________________\n",
      "max_pooling2d_2 (MaxPooling2 (None, 30, 30, 64)        0         \n",
      "_________________________________________________________________\n",
      "flatten_1 (Flatten)          (None, 57600)             0         \n",
      "_________________________________________________________________\n",
      "dense_1 (Dense)              (None, 512)               29491712  \n",
      "_________________________________________________________________\n",
      "activation_5 (Activation)    (None, 512)               0         \n",
      "_________________________________________________________________\n",
      "dense_2 (Dense)              (None, 3)                 1539      \n",
      "_________________________________________________________________\n",
      "activation_6 (Activation)    (None, 3)                 0         \n",
      "=================================================================\n",
      "Total params: 29,558,819\n",
      "Trainable params: 29,558,819\n",
      "Non-trainable params: 0\n",
      "_________________________________________________________________\n",
      "None\n"
     ]
    }
   ],
   "source": [
    "model = Sequential()\n",
    "\n",
    "model.add(Conv2D(32,(3,3), padding = 'same',\n",
    "                input_shape=(128, 128, 3)))\n",
    "model.add(Activation('relu'))\n",
    "model.add(Conv2D(32,(3,3)))\n",
    "model.add(Activation('relu'))\n",
    "model.add(MaxPooling2D(pool_size = (2, 2)))\n",
    "\n",
    "model.add(Conv2D(64,(3,3),padding = 'same'))\n",
    "model.add(Activation('relu'))\n",
    "model.add(Conv2D(64,(3,3)))\n",
    "model.add(Activation('relu'))\n",
    "model.add(MaxPooling2D(pool_size = (2, 2)))\n",
    "\n",
    "model.add(Flatten())\n",
    "model.add(Dense(512))\n",
    "model.add(Activation('relu'))\n",
    "model.add(Dense(3))\n",
    "model.add(Activation('softmax'))\n",
    "opt = keras.optimizers.rmsprop(lr=0.0001,decay = 1e-6)\n",
    "model.compile(loss = 'categorical_crossentropy',optimizer = opt, metrics = ['accuracy'])\n",
    "\n",
    "print(model.summary())"
   ]
  },
  {
   "cell_type": "code",
   "execution_count": null,
   "metadata": {
    "colab": {},
    "colab_type": "code",
    "id": "av4ftBMVuf-h"
   },
   "outputs": [],
   "source": [
    "\n"
   ]
  },
  {
   "cell_type": "code",
   "execution_count": 4,
   "metadata": {
    "colab": {
     "base_uri": "https://localhost:8080/",
     "height": 122
    },
    "colab_type": "code",
    "executionInfo": {
     "elapsed": 222847,
     "status": "ok",
     "timestamp": 1594524917891,
     "user": {
      "displayName": "Shalini Kumari",
      "photoUrl": "https://lh5.googleusercontent.com/-f1p0Rlt5xtw/AAAAAAAAAAI/AAAAAAAAAPg/QAilL7XEoAo/s64/photo.jpg",
      "userId": "00879105127542526832"
     },
     "user_tz": -330
    },
    "id": "3-IiRxmGoem0",
    "outputId": "e24693a8-3b92-4599-ab13-3eb86a1d040e"
   },
   "outputs": [
    {
     "name": "stdout",
     "output_type": "stream",
     "text": [
      "Go to this URL in a browser: https://accounts.google.com/o/oauth2/auth?client_id=947318989803-6bn6qk8qdgf4n4g3pfee6491hc0brc4i.apps.googleusercontent.com&redirect_uri=urn%3aietf%3awg%3aoauth%3a2.0%3aoob&response_type=code&scope=email%20https%3a%2f%2fwww.googleapis.com%2fauth%2fdocs.test%20https%3a%2f%2fwww.googleapis.com%2fauth%2fdrive%20https%3a%2f%2fwww.googleapis.com%2fauth%2fdrive.photos.readonly%20https%3a%2f%2fwww.googleapis.com%2fauth%2fpeopleapi.readonly\n",
      "\n",
      "Enter your authorization code:\n",
      "··········\n",
      "Mounted at /content/drive\n"
     ]
    }
   ],
   "source": [
    "from google.colab import drive\n",
    "drive.mount('/content/drive')"
   ]
  },
  {
   "cell_type": "code",
   "execution_count": 5,
   "metadata": {
    "colab": {
     "base_uri": "https://localhost:8080/",
     "height": 51
    },
    "colab_type": "code",
    "executionInfo": {
     "elapsed": 2867,
     "status": "ok",
     "timestamp": 1594524920795,
     "user": {
      "displayName": "Shalini Kumari",
      "photoUrl": "https://lh5.googleusercontent.com/-f1p0Rlt5xtw/AAAAAAAAAAI/AAAAAAAAAPg/QAilL7XEoAo/s64/photo.jpg",
      "userId": "00879105127542526832"
     },
     "user_tz": -330
    },
    "id": "WX_eUkL_d560",
    "outputId": "704e6eb3-0030-4031-844c-dbdfa9c9cac5"
   },
   "outputs": [
    {
     "name": "stdout",
     "output_type": "stream",
     "text": [
      "Found 363 images belonging to 3 classes.\n",
      "Found 63 images belonging to 3 classes.\n"
     ]
    }
   ],
   "source": [
    "from keras.preprocessing.image import ImageDataGenerator\n",
    "\n",
    "train_datagen = ImageDataGenerator(rescale = 1./255,\n",
    "                 shear_range = 0.2,\n",
    "                 zoom_range = 0.2,\n",
    "                 horizontal_flip = True)\n",
    "test_datagen = ImageDataGenerator(rescale = 1./255)\n",
    "\n",
    "\n",
    "training_set = train_datagen.flow_from_directory('/content/drive/My Drive/image_data/train',\n",
    "                target_size = (128, 128),\n",
    "                batch_size = 32,\n",
    "                class_mode = 'categorical')\n",
    "test_set= test_datagen.flow_from_directory('/content/drive/My Drive/image_data/validation',\n",
    "                  target_size = (128, 128),\n",
    "                  batch_size = 32,\n",
    "                  class_mode = 'categorical')\n"
   ]
  },
  {
   "cell_type": "code",
   "execution_count": 6,
   "metadata": {
    "colab": {
     "base_uri": "https://localhost:8080/",
     "height": 751
    },
    "colab_type": "code",
    "executionInfo": {
     "elapsed": 15704136,
     "status": "ok",
     "timestamp": 1594540629271,
     "user": {
      "displayName": "Shalini Kumari",
      "photoUrl": "https://lh5.googleusercontent.com/-f1p0Rlt5xtw/AAAAAAAAAAI/AAAAAAAAAPg/QAilL7XEoAo/s64/photo.jpg",
      "userId": "00879105127542526832"
     },
     "user_tz": -330
    },
    "id": "0GAKXUIQ0e8Y",
    "outputId": "54f4af49-3d33-4cac-b297-b5ee0706dccc"
   },
   "outputs": [
    {
     "name": "stdout",
     "output_type": "stream",
     "text": [
      "Epoch 1/20\n",
      "300/300 [==============================] - 851s 3s/step - loss: 0.5901 - accuracy: 0.7370 - val_loss: 0.2272 - val_accuracy: 0.9206\n",
      "Epoch 2/20\n",
      "300/300 [==============================] - 783s 3s/step - loss: 0.2475 - accuracy: 0.9005 - val_loss: 0.1378 - val_accuracy: 0.9048\n",
      "Epoch 3/20\n",
      "300/300 [==============================] - 786s 3s/step - loss: 0.1523 - accuracy: 0.9408 - val_loss: 0.0120 - val_accuracy: 0.9683\n",
      "Epoch 4/20\n",
      "300/300 [==============================] - 786s 3s/step - loss: 0.1099 - accuracy: 0.9586 - val_loss: 0.0336 - val_accuracy: 0.9365\n",
      "Epoch 5/20\n",
      "300/300 [==============================] - 783s 3s/step - loss: 0.0929 - accuracy: 0.9622 - val_loss: 0.0589 - val_accuracy: 0.9524\n",
      "Epoch 6/20\n",
      "300/300 [==============================] - 779s 3s/step - loss: 0.0838 - accuracy: 0.9675 - val_loss: 0.1130 - val_accuracy: 0.9683\n",
      "Epoch 7/20\n",
      "300/300 [==============================] - 783s 3s/step - loss: 0.0760 - accuracy: 0.9658 - val_loss: 0.0925 - val_accuracy: 0.9365\n",
      "Epoch 8/20\n",
      "300/300 [==============================] - 782s 3s/step - loss: 0.0690 - accuracy: 0.9674 - val_loss: 0.1112 - val_accuracy: 0.9524\n",
      "Epoch 9/20\n",
      "300/300 [==============================] - 785s 3s/step - loss: 0.0662 - accuracy: 0.9691 - val_loss: 8.3831e-04 - val_accuracy: 0.9841\n",
      "Epoch 10/20\n",
      "300/300 [==============================] - 777s 3s/step - loss: 0.0632 - accuracy: 0.9690 - val_loss: 0.0109 - val_accuracy: 0.9683\n",
      "Epoch 11/20\n",
      "300/300 [==============================] - 776s 3s/step - loss: 0.0584 - accuracy: 0.9706 - val_loss: 0.0491 - val_accuracy: 0.9683\n",
      "Epoch 12/20\n",
      "300/300 [==============================] - 781s 3s/step - loss: 0.0590 - accuracy: 0.9682 - val_loss: 0.0159 - val_accuracy: 0.9841\n",
      "Epoch 13/20\n",
      "300/300 [==============================] - 788s 3s/step - loss: 0.0553 - accuracy: 0.9691 - val_loss: 0.1355 - val_accuracy: 0.9524\n",
      "Epoch 14/20\n",
      "300/300 [==============================] - 783s 3s/step - loss: 0.0529 - accuracy: 0.9706 - val_loss: 0.0442 - val_accuracy: 0.9683\n",
      "Epoch 15/20\n",
      "300/300 [==============================] - 778s 3s/step - loss: 0.0531 - accuracy: 0.9695 - val_loss: 0.0018 - val_accuracy: 0.9524\n",
      "Epoch 16/20\n",
      "300/300 [==============================] - 778s 3s/step - loss: 0.0508 - accuracy: 0.9704 - val_loss: 0.0209 - val_accuracy: 0.9841\n",
      "Epoch 17/20\n",
      "300/300 [==============================] - 778s 3s/step - loss: 0.0500 - accuracy: 0.9696 - val_loss: 0.0526 - val_accuracy: 0.9683\n",
      "Epoch 18/20\n",
      "300/300 [==============================] - 780s 3s/step - loss: 0.0498 - accuracy: 0.9709 - val_loss: 0.0357 - val_accuracy: 0.9683\n",
      "Epoch 19/20\n",
      "300/300 [==============================] - 781s 3s/step - loss: 0.0484 - accuracy: 0.9709 - val_loss: 2.1258e-04 - val_accuracy: 0.9841\n",
      "Epoch 20/20\n",
      "300/300 [==============================] - 779s 3s/step - loss: 0.0484 - accuracy: 0.9691 - val_loss: 0.0340 - val_accuracy: 0.9841\n",
      "Test loss : 0.05031878501176834\n",
      "Test accuracy : 0.9841269850730896\n"
     ]
    }
   ],
   "source": [
    "history= model.fit_generator(training_set,\n",
    "          steps_per_epoch=300,\n",
    "          epochs = 20,\n",
    "        validation_data = test_set,\n",
    "        validation_steps=50)\n",
    "score = model.evaluate(test_set,verbose= 0)\n",
    "print('Test loss :',score[0])\n",
    "print('Test accuracy :',score[1])"
   ]
  },
  {
   "cell_type": "code",
   "execution_count": 7,
   "metadata": {
    "colab": {
     "base_uri": "https://localhost:8080/",
     "height": 281
    },
    "colab_type": "code",
    "executionInfo": {
     "elapsed": 1606,
     "status": "ok",
     "timestamp": 1594541302359,
     "user": {
      "displayName": "Shalini Kumari",
      "photoUrl": "https://lh5.googleusercontent.com/-f1p0Rlt5xtw/AAAAAAAAAAI/AAAAAAAAAPg/QAilL7XEoAo/s64/photo.jpg",
      "userId": "00879105127542526832"
     },
     "user_tz": -330
    },
    "id": "lhkkmXm3oEd7",
    "outputId": "a53a0de6-b3f3-4524-fec9-26a455363527"
   },
   "outputs": [
    {
     "data": {
      "image/png": "[encoded data removed]",
      "text/plain": [
       "<Figure size 432x288 with 1 Axes>"
      ]
     },
     "metadata": {
      "needs_background": "light",
      "tags": []
     },
     "output_type": "display_data"
    }
   ],
   "source": [
    "import matplotlib.pyplot as plt\n",
    "\n",
    "history_dict = history.history\n",
    "\n",
    "loss_values = history_dict['loss']\n",
    "val_loss_values = history_dict['val_loss']\n",
    "epochs = range(1,len(loss_values)+1)\n",
    "\n",
    "line1 = plt.plot(epochs, val_loss_values, label = 'Validation/Test Loss')\n",
    "line2 = plt.plot(epochs, loss_values, label = 'Training Loss')\n",
    "plt.setp(line1, linewidth=1.0, marker='+',markersize=10.0)\n",
    "plt.setp(line2, linewidth=1.0, marker='4',markersize=10.0)\n",
    "plt.xlabel('Epochs')\n",
    "plt.ylabel('Loss')\n",
    "plt.grid(True)\n",
    "plt.legend()\n",
    "plt.show()"
   ]
  },
  {
   "cell_type": "code",
   "execution_count": 8,
   "metadata": {
    "colab": {
     "base_uri": "https://localhost:8080/",
     "height": 279
    },
    "colab_type": "code",
    "executionInfo": {
     "elapsed": 1436,
     "status": "ok",
     "timestamp": 1594541309068,
     "user": {
      "displayName": "Shalini Kumari",
      "photoUrl": "https://lh5.googleusercontent.com/-f1p0Rlt5xtw/AAAAAAAAAAI/AAAAAAAAAPg/QAilL7XEoAo/s64/photo.jpg",
      "userId": "00879105127542526832"
     },
     "user_tz": -330
    },
    "id": "a7hpQbaYIufN",
    "outputId": "251d4562-6f73-453d-f755-518865b79ca7"
   },
   "outputs": [
    {
     "data": {
      "image/png": "[encoded data removed]",
      "text/plain": [
       "<Figure size 432x288 with 1 Axes>"
      ]
     },
     "metadata": {
      "needs_background": "light",
      "tags": []
     },
     "output_type": "display_data"
    }
   ],
   "source": [
    "import matplotlib.pyplot as plt\n",
    "\n",
    "history_dict = history.history\n",
    "\n",
    "acc_values = history_dict['accuracy']\n",
    "val_acc_values = history_dict['val_accuracy']\n",
    "epochs = range(1,len(loss_values)+1)\n",
    "\n",
    "line1 = plt.plot(epochs, val_acc_values, label = 'Validation/Test accuracy')\n",
    "line2 = plt.plot(epochs, acc_values, label = 'Training accuracy')\n",
    "plt.setp(line1, linewidth=1.0, marker='+',markersize=10.0)\n",
    "plt.setp(line2, linewidth=1.0, marker='4',markersize=10.0)\n",
    "plt.xlabel('Epochs')\n",
    "plt.ylabel('Accuracy')\n",
    "plt.grid(True)\n",
    "plt.legend()\n",
    "plt.show()"
   ]
  },
  {
   "cell_type": "code",
   "execution_count": 9,
   "metadata": {
    "colab": {},
    "colab_type": "code",
    "executionInfo": {
     "elapsed": 2558,
     "status": "ok",
     "timestamp": 1594541316523,
     "user": {
      "displayName": "Shalini Kumari",
      "photoUrl": "https://lh5.googleusercontent.com/-f1p0Rlt5xtw/AAAAAAAAAAI/AAAAAAAAAPg/QAilL7XEoAo/s64/photo.jpg",
      "userId": "00879105127542526832"
     },
     "user_tz": -330
    },
    "id": "vb2ZdCdZI-Uj"
   },
   "outputs": [],
   "source": [
    "model.save('image_classification')\n"
   ]
  },
  {
   "cell_type": "code",
   "execution_count": 10,
   "metadata": {
    "colab": {},
    "colab_type": "code",
    "executionInfo": {
     "elapsed": 2676,
     "status": "ok",
     "timestamp": 1594541326373,
     "user": {
      "displayName": "Shalini Kumari",
      "photoUrl": "https://lh5.googleusercontent.com/-f1p0Rlt5xtw/AAAAAAAAAAI/AAAAAAAAAPg/QAilL7XEoAo/s64/photo.jpg",
      "userId": "00879105127542526832"
     },
     "user_tz": -330
    },
    "id": "9MqNiUP_JLm2"
   },
   "outputs": [],
   "source": [
    "from keras.models import load_model\n",
    "classifier = load_model('image_classification')"
   ]
  },
  {
   "cell_type": "code",
   "execution_count": 16,
   "metadata": {
    "colab": {},
    "colab_type": "code",
    "executionInfo": {
     "elapsed": 1156,
     "status": "ok",
     "timestamp": 1594542680879,
     "user": {
      "displayName": "Shalini Kumari",
      "photoUrl": "https://lh5.googleusercontent.com/-f1p0Rlt5xtw/AAAAAAAAAAI/AAAAAAAAAPg/QAilL7XEoAo/s64/photo.jpg",
      "userId": "00879105127542526832"
     },
     "user_tz": -330
    },
    "id": "najqF_TuJVDL"
   },
   "outputs": [],
   "source": [
    "import numpy as np\n",
    "from keras.preprocessing import image\n",
    "def testing_image(image_path):\n",
    "    test_image = image.load_img(image_directory, target_size = (128, 128))\n",
    "    test_image = image.img_to_array(test_image)\n",
    "    test_image = np.expand_dims(test_image, axis = 0)\n",
    "    result = classifier.predict(x = test_image)\n",
    "    if result[0][0]==1:\n",
    "      predicted_value='saree'\n",
    "    elif result[0][1]==1:\n",
    "      predicted_value='shirt'\n",
    "    elif result[0][2]==1:\n",
    "      predicted_value='tshirt'\n",
    "    return predicted_value\n",
    "    "
   ]
  },
  {
   "cell_type": "code",
   "execution_count": 17,
   "metadata": {
    "colab": {
     "base_uri": "https://localhost:8080/",
     "height": 34
    },
    "colab_type": "code",
    "executionInfo": {
     "elapsed": 1127,
     "status": "ok",
     "timestamp": 1594542683246,
     "user": {
      "displayName": "Shalini Kumari",
      "photoUrl": "https://lh5.googleusercontent.com/-f1p0Rlt5xtw/AAAAAAAAAAI/AAAAAAAAAPg/QAilL7XEoAo/s64/photo.jpg",
      "userId": "00879105127542526832"
     },
     "user_tz": -330
    },
    "id": "5NLh7XlpaW1U",
    "outputId": "e13446fe-e8e9-4f51-9b81-fe13f8069335"
   },
   "outputs": [
    {
     "name": "stdout",
     "output_type": "stream",
     "text": [
      "saree\n"
     ]
    }
   ],
   "source": [
    "print(testing_image('/content/img_5.jpeg'))"
   ]
  }
 ],
 "metadata": {
  "colab": {
   "authorship_tag": "ABX9TyMfqLRPWeKZFlWXI0CFqZqj",
   "collapsed_sections": [],
   "mount_file_id": "1jqk0VobWmm_46192wb6L_abN9gKKI5wY",
   "name": "Untitled1.ipynb",
   "provenance": []
  },
  "kernelspec": {
   "display_name": "Python 3",
   "language": "python",
   "name": "python3"
  },
  "language_info": {
   "codemirror_mode": {
    "name": "ipython",
    "version": 3
   },
   "file_extension": ".py",
   "mimetype": "text/x-python",
   "name": "python",
   "nbconvert_exporter": "python",
   "pygments_lexer": "ipython3",
   "version": "3.6.10"
  }
 },
 "nbformat": 4,
 "nbformat_minor": 1
}
