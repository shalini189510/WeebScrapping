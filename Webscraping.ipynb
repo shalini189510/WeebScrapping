{
 "cells": [
  {
   "cell_type": "code",
   "execution_count": null,
   "metadata": {},
   "outputs": [],
   "source": [
    "from selenium import webdriver\n",
    "from save_images import make_directory, save_images, save_data_to_csv\n",
    "from scrap_image import scrap_image_url\n",
    "from selenium.common.exceptions import StaleElementReferenceException\n",
    "import os\n",
    "import bs4\n",
    "from fake_useragent import UserAgent"
   ]
  },
  {
   "cell_type": "code",
   "execution_count": null,
   "metadata": {},
   "outputs": [],
   "source": [
    "#step1\n",
    "CDriver=\"D:\\\\Drivers\"\n",
    "lists=['saree','tshirt','shirt']    \n",
    "\n"
   ]
  },
  {
   "cell_type": "code",
   "execution_count": null,
   "metadata": {},
   "outputs": [],
   "source": [
    "#step2\n",
    "def make_directory(dirname):\n",
    "    current_path=os.getcwd()\n",
    "    path=os.path.join(current_path,dirname)\n",
    "    if not os.path.exists(path):\n",
    "        os.makedirs(path)\n"
   ]
  },
  {
   "cell_type": "code",
   "execution_count": null,
   "metadata": {},
   "outputs": [],
   "source": [
    "def scrap_images(app):\n",
    "    url=[]\n",
    "    images=driver.find_elements_by_xpath(\"//div[@class='a-section aok-relative s-image-tall-aspect']//img\")\n",
    "    for image in images:\n",
    "        source = image.get_attribute('src')\n",
    "        url.append(source)\n",
    "        print(source)\n",
    "    return url\n",
    "    "
   ]
  },
  {
   "cell_type": "code",
   "execution_count": null,
   "metadata": {},
   "outputs": [],
   "source": [
    "#step4\n",
    "import shutil\n",
    "import requests\n",
    "def save_images(category,data):\n",
    "    if(category=='saree'):\n",
    "        for index, link in enumerate(data):\n",
    "            print(\"Downloading {0} of {1}images\".format(index+1, len(data)))\n",
    "            i=(len(data))\n",
    "            response=requests.get(link)\n",
    "            if(url=='https://www.amazon.in/s?k=saree&ref=nb_sb_noss_2'):\n",
    "                with open('D:/Amazon/saree/img_{0}.jpeg'.format(index), \"wb\") as file:\n",
    "                    file.write(response.content)\n",
    "            else:\n",
    "                with open('D:/Amazon/saree/img_{0}.jpeg'.format(i+index+1), \"wb\") as file:\n",
    "                    file.write(response.content)\n",
    "    elif(category=='tshirt'):\n",
    "        for index, link in enumerate(data):\n",
    "            print(\"Downloading {0} of {1}images\".format(index+1, len(data)))\n",
    "            j=len(data)\n",
    "            response=requests.get(link)\n",
    "            if(url=='https://www.amazon.in/s/ref=nb_sb_noss_2?url=search-alias%3Daps&field-keywords=tshirt'):\n",
    "                \n",
    "                with open('D:/Amazon/tshirt/img_{0}.jpeg'.format(index), \"wb\") as file:\n",
    "                    file.write(response.content)\n",
    "            else:\n",
    "                with open('D:/Amazon/tshirt/img_{0}.jpeg'.format(j+index+1), \"wb\") as file:\n",
    "                    file.write(response.content)\n",
    "    else:\n",
    "        for index, link in enumerate(data):\n",
    "            print(\"Downloading {0} of {1}images\".format(index+1, len(data)))\n",
    "            k=len(data)\n",
    "            response=requests.get(link)\n",
    "            if(url=='https://www.amazon.in/s?k=shirt&ref=nb_sb_noss_2'):\n",
    "                with open('D:/Amazon/shirt/img_{0}.jpeg'.format(index), \"wb\") as file:\n",
    "                    file.write(response.content)\n",
    "            else:\n",
    "                with open('D:/Amazon/shirt/img_{0}.jpeg'.format(k+index+1), \"wb\") as file:\n",
    "                    file.write(response.content)\n"
   ]
  },
  {
   "cell_type": "code",
   "execution_count": null,
   "metadata": {},
   "outputs": [],
   "source": [
    "for category in lists:\n",
    "    driver=webdriver.Chrome(executable_path=r'D:/Drivers/chromedriver.exe')\n",
    "    driver.maximize_window()\n",
    "    if(category=='saree'):\n",
    "        app_urls=['https://www.amazon.in/s?k=saree&ref=nb_sb_noss_2','https://www.amazon.in/s?k=saree&page=2&qid=1594343833&ref=sr_pg_2']\n",
    "        #app_url=driver.get(\"https://www.amazon.in/s?k=saree&ref=nb_sb_noss_2\")\n",
    "        make_directory(\"D:\\\\Amazon\\\\saree\")\n",
    "        for url in app_urls:\n",
    "            app_url=driver.get(url)\n",
    "            data=scrap_images(app_url)\n",
    "            save_images(category,data)\n",
    "            print(\"Current session is {}\".format(driver.session_id))\n",
    "        driver.close()\n",
    "    elif(category=='tshirt'):\n",
    "        app_urls=['https://www.amazon.in/s/ref=nb_sb_noss_2?url=search-alias%3Daps&field-keywords=tshirt','https://www.amazon.in/s?k=t-shirt&page=2&qid=1594351127&ref=sr_pg_2']\n",
    "        make_directory(\"D:\\\\Amazon\\\\tshirt\")\n",
    "        for url in app_urls:\n",
    "            app_url=driver.get(url)\n",
    "            data=scrap_images(app_url)\n",
    "            save_images(category,data)\n",
    "        driver.close()\n",
    "    else:\n",
    "        app_urls=['https://www.amazon.in/s?k=shirt&ref=nb_sb_noss_2','https://www.amazon.in/s?k=shirt&page=2&qid=1594351023&ref=sr_pg_2']\n",
    "        \n",
    "        make_directory(\"D:\\\\Amazon\\\\shirt\")\n",
    "        for url in app_urls:\n",
    "            app_url=driver.get(url)\n",
    "            data=scrap_images(app_url)\n",
    "            save_images(category,data)\n",
    "        driver.close()"
   ]
  }
 ],
 "metadata": {
  "kernelspec": {
   "display_name": "Python 3",
   "language": "python",
   "name": "python3"
  },
  "language_info": {
   "codemirror_mode": {
    "name": "ipython",
    "version": 3
   },
   "file_extension": ".py",
   "mimetype": "text/x-python",
   "name": "python",
   "nbconvert_exporter": "python",
   "pygments_lexer": "ipython3",
   "version": "3.6.10"
  }
 },
 "nbformat": 4,
 "nbformat_minor": 4
}
